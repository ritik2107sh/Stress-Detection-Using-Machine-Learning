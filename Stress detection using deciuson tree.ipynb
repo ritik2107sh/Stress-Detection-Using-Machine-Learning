{
 "cells": [
  {
   "cell_type": "markdown",
   "metadata": {},
   "source": [
    "# 1. Introduction\n",
    "Stress detection is a challenging task, as there are so many words that can be used by people on their posts \n",
    "that can show whether a person is having psychological stress or not. While looking for datasets that \n",
    "I can use to train a machine learning model for stress detection,\n",
    "I found a dataset on Kaggle with 116 columns. We only need to use the text and label column for this task."
   ]
  },
  {
   "cell_type": "markdown",
   "metadata": {},
   "source": [
    "# Summary\n",
    "Stress-Lysis data might be unsuitable for classification such as decision tree and random forest to discover insightful suggestions.\n",
    "Decision tree suggests that high stress people's temperature is higher than 91.905°F and low one is lower than 84.005°F.\n",
    "Decision tree and random forest are both accurate when classifing Stress-Lysis data."
   ]
  },
  {
   "cell_type": "markdown",
   "metadata": {},
   "source": [
    "# 2. Data Preprocessing\n"
   ]
  },
  {
   "cell_type": "code",
   "execution_count": 12,
   "metadata": {},
   "outputs": [],
   "source": [
    "import os\n",
    "for dirname, _, filenames in os.walk('/kaggle/input'):\n",
    "    for filename in filenames:\n",
    "        print(os.path.join(dirname, filename))"
   ]
  },
  {
   "cell_type": "markdown",
   "metadata": {},
   "source": [
    "## 2-1. Import Packages and Data"
   ]
  },
  {
   "cell_type": "code",
   "execution_count": 55,
   "metadata": {},
   "outputs": [
    {
     "data": {
      "text/plain": [
       "'\\nAccuracy Score = (TP+TN)/ (TP+FN+TN+FP)\\n\\nThe R² score, also known as the coefficient of determination, is a metric used to evaluate the performance of a regression\\nmodel. \\n\\nMSE is a risk method that facilitates us to signify the average squared difference between the predicted and the actual \\nvalue of a feature or variable.\\n\\nRandom Forest is a classifier that contains a number of decision trees on various subsets of the given dataset and takes \\nthe average to improve the predictive accuracy of that dataset '"
      ]
     },
     "execution_count": 55,
     "metadata": {},
     "output_type": "execute_result"
    }
   ],
   "source": [
    "# Ignore warnings\n",
    "import warnings\n",
    "warnings.simplefilter(\"ignore\")\n",
    "\n",
    "# Frequently using packages\n",
    "import numpy as np\n",
    "import pandas as pd\n",
    "import matplotlib.pyplot as plt\n",
    "import seaborn as sns\n",
    "\n",
    "# Useful data handling package\n",
    "! pip install dfply -q\n",
    "from dfply import *\n",
    "\n",
    "# Data Analyses\n",
    "from sklearn.model_selection import train_test_split\n",
    "from sklearn import tree\n",
    "from sklearn.tree import plot_tree\n",
    "from sklearn.model_selection import train_test_split\n",
    "from sklearn.ensemble import RandomForestClassifier\n",
    "from sklearn.metrics import accuracy_score\n",
    "from sklearn.metrics import r2_score\n",
    "from sklearn.metrics import mean_squared_error\n",
    "'''\n",
    "Accuracy Score = (TP+TN)/ (TP+FN+TN+FP)\n",
    "\n",
    "The R² score, also known as the coefficient of determination, is a metric used to evaluate the performance of a regression\n",
    "model. \n",
    "\n",
    "MSE is a risk method that facilitates us to signify the average squared difference between the predicted and the actual \n",
    "value of a feature or variable.\n",
    "\n",
    "Random Forest is a classifier that contains a number of decision trees on various subsets of the given dataset and takes \n",
    "the average to improve the predictive accuracy of that datasetand it is ensemble learning, which is a process of combining\n",
    "multiple classifiers to solve a complex problem and to improve the performance of the model.'''"
   ]
  },
  {
   "cell_type": "code",
   "execution_count": 10,
   "metadata": {},
   "outputs": [],
   "source": [
    "df_stress = pd.read_csv('C:/Users/ritik/Downloads/Stress-Lysis.csv')"
   ]
  },
  {
   "cell_type": "markdown",
   "metadata": {},
   "source": [
    "## 2-2. Exploratory Data Analytics"
   ]
  },
  {
   "cell_type": "markdown",
   "metadata": {},
   "source": [
    "### Summary\n",
    "Stress-Lysis has no outliers in all variables based on  𝑄1−1.5IQR\n",
    "  and  𝑄3+1.5IQR\n",
    " .\n",
    "High stress people seem to take more than twice steps as the others.\n",
    "They tend to have 10 to 15 higher body humidity or temperatures than the others."
   ]
  },
  {
   "cell_type": "markdown",
   "metadata": {},
   "source": [
    "### The data is as follows.\n",
    "\n",
    "Humidity: Body humidity in percent.\n",
    "Temperature: Body temperature in Fahrenheit.\n",
    "Step count: The number of steps.\n",
    "Stress Level: 0 is low stress, 1 is normal stress, and 2 is high stress."
   ]
  },
  {
   "cell_type": "code",
   "execution_count": 14,
   "metadata": {},
   "outputs": [
    {
     "data": {
      "text/html": [
       "<div>\n",
       "<style scoped>\n",
       "    .dataframe tbody tr th:only-of-type {\n",
       "        vertical-align: middle;\n",
       "    }\n",
       "\n",
       "    .dataframe tbody tr th {\n",
       "        vertical-align: top;\n",
       "    }\n",
       "\n",
       "    .dataframe thead th {\n",
       "        text-align: right;\n",
       "    }\n",
       "</style>\n",
       "<table border=\"1\" class=\"dataframe\">\n",
       "  <thead>\n",
       "    <tr style=\"text-align: right;\">\n",
       "      <th></th>\n",
       "      <th>Humidity</th>\n",
       "      <th>Temperature</th>\n",
       "      <th>Step count</th>\n",
       "      <th>Stress Level</th>\n",
       "    </tr>\n",
       "  </thead>\n",
       "  <tbody>\n",
       "    <tr>\n",
       "      <th>0</th>\n",
       "      <td>21.33</td>\n",
       "      <td>90.33</td>\n",
       "      <td>123</td>\n",
       "      <td>1</td>\n",
       "    </tr>\n",
       "    <tr>\n",
       "      <th>1</th>\n",
       "      <td>21.41</td>\n",
       "      <td>90.41</td>\n",
       "      <td>93</td>\n",
       "      <td>1</td>\n",
       "    </tr>\n",
       "    <tr>\n",
       "      <th>2</th>\n",
       "      <td>27.12</td>\n",
       "      <td>96.12</td>\n",
       "      <td>196</td>\n",
       "      <td>2</td>\n",
       "    </tr>\n",
       "    <tr>\n",
       "      <th>3</th>\n",
       "      <td>27.64</td>\n",
       "      <td>96.64</td>\n",
       "      <td>177</td>\n",
       "      <td>2</td>\n",
       "    </tr>\n",
       "    <tr>\n",
       "      <th>4</th>\n",
       "      <td>10.87</td>\n",
       "      <td>79.87</td>\n",
       "      <td>87</td>\n",
       "      <td>0</td>\n",
       "    </tr>\n",
       "    <tr>\n",
       "      <th>5</th>\n",
       "      <td>11.31</td>\n",
       "      <td>80.31</td>\n",
       "      <td>40</td>\n",
       "      <td>0</td>\n",
       "    </tr>\n",
       "    <tr>\n",
       "      <th>6</th>\n",
       "      <td>18.16</td>\n",
       "      <td>87.16</td>\n",
       "      <td>88</td>\n",
       "      <td>1</td>\n",
       "    </tr>\n",
       "    <tr>\n",
       "      <th>7</th>\n",
       "      <td>28.20</td>\n",
       "      <td>97.20</td>\n",
       "      <td>162</td>\n",
       "      <td>2</td>\n",
       "    </tr>\n",
       "    <tr>\n",
       "      <th>8</th>\n",
       "      <td>14.25</td>\n",
       "      <td>83.25</td>\n",
       "      <td>61</td>\n",
       "      <td>0</td>\n",
       "    </tr>\n",
       "    <tr>\n",
       "      <th>9</th>\n",
       "      <td>26.13</td>\n",
       "      <td>95.13</td>\n",
       "      <td>168</td>\n",
       "      <td>2</td>\n",
       "    </tr>\n",
       "  </tbody>\n",
       "</table>\n",
       "</div>"
      ],
      "text/plain": [
       "   Humidity  Temperature  Step count  Stress Level\n",
       "0     21.33        90.33         123             1\n",
       "1     21.41        90.41          93             1\n",
       "2     27.12        96.12         196             2\n",
       "3     27.64        96.64         177             2\n",
       "4     10.87        79.87          87             0\n",
       "5     11.31        80.31          40             0\n",
       "6     18.16        87.16          88             1\n",
       "7     28.20        97.20         162             2\n",
       "8     14.25        83.25          61             0\n",
       "9     26.13        95.13         168             2"
      ]
     },
     "execution_count": 14,
     "metadata": {},
     "output_type": "execute_result"
    }
   ],
   "source": [
    "df_stress.head(10)"
   ]
  },
  {
   "cell_type": "code",
   "execution_count": 15,
   "metadata": {},
   "outputs": [
    {
     "data": {
      "text/plain": [
       "2001"
      ]
     },
     "execution_count": 15,
     "metadata": {},
     "output_type": "execute_result"
    }
   ],
   "source": [
    "len(df_stress)"
   ]
  },
  {
   "cell_type": "code",
   "execution_count": 16,
   "metadata": {},
   "outputs": [
    {
     "data": {
      "text/html": [
       "<div>\n",
       "<style scoped>\n",
       "    .dataframe tbody tr th:only-of-type {\n",
       "        vertical-align: middle;\n",
       "    }\n",
       "\n",
       "    .dataframe tbody tr th {\n",
       "        vertical-align: top;\n",
       "    }\n",
       "\n",
       "    .dataframe thead th {\n",
       "        text-align: right;\n",
       "    }\n",
       "</style>\n",
       "<table border=\"1\" class=\"dataframe\">\n",
       "  <thead>\n",
       "    <tr style=\"text-align: right;\">\n",
       "      <th></th>\n",
       "      <th>Humidity</th>\n",
       "      <th>Temperature</th>\n",
       "      <th>Step_count</th>\n",
       "      <th>Stress_Level</th>\n",
       "    </tr>\n",
       "  </thead>\n",
       "  <tbody>\n",
       "    <tr>\n",
       "      <th>0</th>\n",
       "      <td>21.33</td>\n",
       "      <td>90.33</td>\n",
       "      <td>123</td>\n",
       "      <td>1</td>\n",
       "    </tr>\n",
       "  </tbody>\n",
       "</table>\n",
       "</div>"
      ],
      "text/plain": [
       "   Humidity  Temperature  Step_count  Stress_Level\n",
       "0     21.33        90.33         123             1"
      ]
     },
     "execution_count": 16,
     "metadata": {},
     "output_type": "execute_result"
    }
   ],
   "source": [
    "df_stress = df_stress.rename(columns = {'Step count': 'Step_count', 'Stress Level': 'Stress_Level'})\n",
    "df_stress.head(1)"
   ]
  },
  {
   "cell_type": "markdown",
   "metadata": {},
   "source": [
    "# Data Description\n",
    "To take a grasp on the data, I find respective descriptive statistics"
   ]
  },
  {
   "cell_type": "markdown",
   "metadata": {},
   "source": [
    "### Humidity"
   ]
  },
  {
   "cell_type": "code",
   "execution_count": 20,
   "metadata": {},
   "outputs": [
    {
     "data": {
      "text/html": [
       "<div>\n",
       "<style scoped>\n",
       "    .dataframe tbody tr th:only-of-type {\n",
       "        vertical-align: middle;\n",
       "    }\n",
       "\n",
       "    .dataframe tbody tr th {\n",
       "        vertical-align: top;\n",
       "    }\n",
       "\n",
       "    .dataframe thead th {\n",
       "        text-align: right;\n",
       "    }\n",
       "</style>\n",
       "<table border=\"1\" class=\"dataframe\">\n",
       "  <thead>\n",
       "    <tr style=\"text-align: right;\">\n",
       "      <th></th>\n",
       "      <th>Stress_Level</th>\n",
       "      <th>Humidity_size</th>\n",
       "      <th>Humidity_min</th>\n",
       "      <th>Humidity_max</th>\n",
       "      <th>Humidity_mean</th>\n",
       "      <th>Humidity_sd</th>\n",
       "      <th>Humidity_cil</th>\n",
       "      <th>Humidity_cih</th>\n",
       "    </tr>\n",
       "  </thead>\n",
       "  <tbody>\n",
       "    <tr>\n",
       "      <th>4</th>\n",
       "      <td>0</td>\n",
       "      <td>501</td>\n",
       "      <td>10.00</td>\n",
       "      <td>15.0</td>\n",
       "      <td>12.500</td>\n",
       "      <td>1.446260</td>\n",
       "      <td>9.665331</td>\n",
       "      <td>15.334669</td>\n",
       "    </tr>\n",
       "    <tr>\n",
       "      <th>0</th>\n",
       "      <td>1</td>\n",
       "      <td>790</td>\n",
       "      <td>15.01</td>\n",
       "      <td>22.9</td>\n",
       "      <td>18.955</td>\n",
       "      <td>2.280532</td>\n",
       "      <td>14.485158</td>\n",
       "      <td>23.424842</td>\n",
       "    </tr>\n",
       "    <tr>\n",
       "      <th>2</th>\n",
       "      <td>2</td>\n",
       "      <td>710</td>\n",
       "      <td>22.91</td>\n",
       "      <td>30.0</td>\n",
       "      <td>26.455</td>\n",
       "      <td>2.049591</td>\n",
       "      <td>22.437801</td>\n",
       "      <td>30.472199</td>\n",
       "    </tr>\n",
       "  </tbody>\n",
       "</table>\n",
       "</div>"
      ],
      "text/plain": [
       "   Stress_Level  Humidity_size  Humidity_min  Humidity_max  Humidity_mean  \\\n",
       "4             0            501         10.00          15.0         12.500   \n",
       "0             1            790         15.01          22.9         18.955   \n",
       "2             2            710         22.91          30.0         26.455   \n",
       "\n",
       "   Humidity_sd  Humidity_cil  Humidity_cih  \n",
       "4     1.446260      9.665331     15.334669  \n",
       "0     2.280532     14.485158     23.424842  \n",
       "2     2.049591     22.437801     30.472199  "
      ]
     },
     "execution_count": 20,
     "metadata": {},
     "output_type": "execute_result"
    }
   ],
   "source": [
    "df_stress >> group_by(X.Stress_Level) >> mutate(\n",
    "    Humidity_size = X.Humidity.count(),\n",
    "    Humidity_min = np.min(X.Humidity),\n",
    "    Humidity_max = np.max(X.Humidity),\n",
    "    Humidity_mean = np.mean(X.Humidity),\n",
    "    Humidity_sd = np.std(X.Humidity),\n",
    "    Humidity_cil = np.mean(X.Humidity) - 1.96 * np.std(X.Humidity),\n",
    "    Humidity_cih = np.mean(X.Humidity) + 1.96 * np.std(X.Humidity)\n",
    ") >> head(1) >> select(\n",
    "    X.Stress_Level,\n",
    "    X.Humidity_size, X.Humidity_min, X.Humidity_max,\n",
    "    X.Humidity_mean, X.Humidity_sd, X.Humidity_cil, X.Humidity_cih\n",
    ")"
   ]
  },
  {
   "cell_type": "markdown",
   "metadata": {},
   "source": [
    "#### Humidity descriptions show that there are no outliers in each stress level."
   ]
  },
  {
   "cell_type": "code",
   "execution_count": 23,
   "metadata": {},
   "outputs": [
    {
     "data": {
      "text/html": [
       "<div>\n",
       "<style scoped>\n",
       "    .dataframe tbody tr th:only-of-type {\n",
       "        vertical-align: middle;\n",
       "    }\n",
       "\n",
       "    .dataframe tbody tr th {\n",
       "        vertical-align: top;\n",
       "    }\n",
       "\n",
       "    .dataframe thead th {\n",
       "        text-align: right;\n",
       "    }\n",
       "</style>\n",
       "<table border=\"1\" class=\"dataframe\">\n",
       "  <thead>\n",
       "    <tr style=\"text-align: right;\">\n",
       "      <th></th>\n",
       "      <th>Stress_Level</th>\n",
       "      <th>Stepcount_size</th>\n",
       "      <th>Stepcount_min</th>\n",
       "      <th>Stepcount_max</th>\n",
       "      <th>Stepcount_mean</th>\n",
       "      <th>Stepcount_sd</th>\n",
       "      <th>Stepcount_cil</th>\n",
       "      <th>Stepcount_cih</th>\n",
       "    </tr>\n",
       "  </thead>\n",
       "  <tbody>\n",
       "    <tr>\n",
       "      <th>4</th>\n",
       "      <td>0</td>\n",
       "      <td>501</td>\n",
       "      <td>0</td>\n",
       "      <td>90</td>\n",
       "      <td>42.934132</td>\n",
       "      <td>26.173337</td>\n",
       "      <td>-8.365609</td>\n",
       "      <td>94.233872</td>\n",
       "    </tr>\n",
       "    <tr>\n",
       "      <th>0</th>\n",
       "      <td>1</td>\n",
       "      <td>790</td>\n",
       "      <td>0</td>\n",
       "      <td>129</td>\n",
       "      <td>78.130380</td>\n",
       "      <td>37.653308</td>\n",
       "      <td>4.329896</td>\n",
       "      <td>151.930864</td>\n",
       "    </tr>\n",
       "    <tr>\n",
       "      <th>2</th>\n",
       "      <td>2</td>\n",
       "      <td>710</td>\n",
       "      <td>130</td>\n",
       "      <td>200</td>\n",
       "      <td>165.000000</td>\n",
       "      <td>20.493902</td>\n",
       "      <td>124.831953</td>\n",
       "      <td>205.168047</td>\n",
       "    </tr>\n",
       "  </tbody>\n",
       "</table>\n",
       "</div>"
      ],
      "text/plain": [
       "   Stress_Level  Stepcount_size  Stepcount_min  Stepcount_max  Stepcount_mean  \\\n",
       "4             0             501              0             90       42.934132   \n",
       "0             1             790              0            129       78.130380   \n",
       "2             2             710            130            200      165.000000   \n",
       "\n",
       "   Stepcount_sd  Stepcount_cil  Stepcount_cih  \n",
       "4     26.173337      -8.365609      94.233872  \n",
       "0     37.653308       4.329896     151.930864  \n",
       "2     20.493902     124.831953     205.168047  "
      ]
     },
     "execution_count": 23,
     "metadata": {},
     "output_type": "execute_result"
    }
   ],
   "source": [
    "df_stress >> group_by(X.Stress_Level) >> mutate(\n",
    "    Stepcount_size = X.Step_count.count(),\n",
    "    Stepcount_min = np.min(X.Step_count),\n",
    "    Stepcount_max = np.max(X.Step_count),\n",
    "    Stepcount_mean = np.mean(X.Step_count),\n",
    "    Stepcount_sd = np.std(X.Step_count),\n",
    "    Stepcount_cil = np.mean(X.Step_count) - 1.96 * np.std(X.Step_count),\n",
    "    Stepcount_cih = np.mean(X.Step_count) + 1.96 * np.std(X.Step_count)\n",
    ") >> head(1) >> select(\n",
    "    X.Stress_Level,\n",
    "    X.Stepcount_size, X.Stepcount_min, X.Stepcount_max,\n",
    "    X.Stepcount_mean, X.Stepcount_sd, X.Stepcount_cil, X.Stepcount_cih\n",
    ")"
   ]
  },
  {
   "cell_type": "code",
   "execution_count": 24,
   "metadata": {},
   "outputs": [
    {
     "ename": "SyntaxError",
     "evalue": "invalid syntax (<ipython-input-24-17c6da3e3586>, line 1)",
     "output_type": "error",
     "traceback": [
      "\u001b[1;36m  File \u001b[1;32m\"<ipython-input-24-17c6da3e3586>\"\u001b[1;36m, line \u001b[1;32m1\u001b[0m\n\u001b[1;33m    Step count statistics describe that stress level 1 seems to have several outliers. Hence, I draw the related histgrams.\u001b[0m\n\u001b[1;37m         ^\u001b[0m\n\u001b[1;31mSyntaxError\u001b[0m\u001b[1;31m:\u001b[0m invalid syntax\n"
     ]
    }
   ],
   "source": [
    "Step count statistics describe that stress level 1 seems to have several outliers. Hence, I draw the related histgrams."
   ]
  },
  {
   "cell_type": "markdown",
   "metadata": {},
   "source": [
    "### Scatter Plot and Boxplot\n",
    "Apparently, the number of steps has some outliers in stress level 1. The scatter plot and boxplot are as follows."
   ]
  },
  {
   "cell_type": "code",
   "execution_count": 26,
   "metadata": {},
   "outputs": [
    {
     "data": {
      "image/png": "[encoded data removed]",
      "text/plain": [
       "<Figure size 432x288 with 2 Axes>"
      ]
     },
     "metadata": {
      "needs_background": "light"
     },
     "output_type": "display_data"
    }
   ],
   "source": [
    "fig, axs = plt.subplots(ncols=2)\n",
    "sns.scatterplot(data=df_stress,\n",
    "                x=\"Stress_Level\", y=\"Step_count\", hue=df_stress.Stress_Level.tolist(),\n",
    "                ax=axs[0])\n",
    "sns.boxplot(data=df_stress,\n",
    "            x=\"Stress_Level\", y=\"Step_count\", hue=df_stress.Stress_Level.tolist(),\n",
    "            ax=axs[1])\n",
    "plt.show()"
   ]
  },
  {
   "cell_type": "markdown",
   "metadata": {},
   "source": [
    "## This box-plot suggests that the number of steps has no outliers based on  𝑄1−1.5IQR\n",
    "  and  𝑄3+1.5IQR\n",
    " ."
   ]
  },
  {
   "cell_type": "code",
   "execution_count": 29,
   "metadata": {},
   "outputs": [
    {
     "data": {
      "image/png": "[encoded data removed]",
      "text/plain": [
       "<Figure size 432x288 with 2 Axes>"
      ]
     },
     "metadata": {
      "needs_background": "light"
     },
     "output_type": "display_data"
    }
   ],
   "source": [
    "fig, axs = plt.subplots(ncols=2)\n",
    "sns.scatterplot(data=df_stress,\n",
    "                x=\"Stress_Level\", y=\"Temperature\", hue=df_stress.Stress_Level.tolist(),\n",
    "                ax=axs[0])\n",
    "sns.boxplot(data=df_stress,\n",
    "            x=\"Stress_Level\", y=\"Temperature\", hue=df_stress.Stress_Level.tolist(),\n",
    "            ax=axs[1])\n",
    "plt.show()"
   ]
  },
  {
   "cell_type": "code",
   "execution_count": 30,
   "metadata": {},
   "outputs": [
    {
     "data": {
      "image/png": "[encoded data removed]",
      "text/plain": [
       "<Figure size 432x288 with 2 Axes>"
      ]
     },
     "metadata": {
      "needs_background": "light"
     },
     "output_type": "display_data"
    }
   ],
   "source": [
    "fig, axs = plt.subplots(ncols=2)\n",
    "sns.scatterplot(data=df_stress,\n",
    "                x=\"Stress_Level\", y=\"Humidity\", hue=df_stress.Stress_Level.tolist(),\n",
    "                ax=axs[0])\n",
    "sns.boxplot(data=df_stress,\n",
    "            x=\"Stress_Level\", y=\"Humidity\", hue=df_stress.Stress_Level.tolist(),\n",
    "            ax=axs[1])\n",
    "plt.show()"
   ]
  },
  {
   "cell_type": "markdown",
   "metadata": {},
   "source": [
    "## 3.Analyses"
   ]
  },
  {
   "cell_type": "markdown",
   "metadata": {},
   "source": [
    "## Summary\n",
    "#### Decision tree suggests that high stress people's temperature is higher than 91.905°F and low one is lower than 84.005°F.\n",
    "#### Decision tree and random forest are both accurate when classifing Stress-Lysis data."
   ]
  },
  {
   "cell_type": "markdown",
   "metadata": {},
   "source": [
    "## Data Preparation"
   ]
  },
  {
   "cell_type": "code",
   "execution_count": 34,
   "metadata": {},
   "outputs": [],
   "source": [
    "df_y = df_stress['Stress_Level']\n",
    "df_x = df_stress[df_stress.columns[df_stress.columns != 'Stress_Level']]\n",
    "train_x, test_x, train_y, test_y = train_test_split(df_x, df_y, random_state=42)"
   ]
  },
  {
   "cell_type": "code",
   "execution_count": 35,
   "metadata": {},
   "outputs": [
    {
     "data": {
      "text/plain": [
       "<bound method DataFrame.count of       Humidity  Temperature  Step_count\n",
       "548      15.68        84.68          22\n",
       "937      23.37        92.37         176\n",
       "845      15.17        84.17          62\n",
       "1608     19.88        88.88          92\n",
       "1940     10.50        79.50          50\n",
       "...        ...          ...         ...\n",
       "1130     10.73        79.73          73\n",
       "1294     22.67        91.67         113\n",
       "860      25.38        94.38         164\n",
       "1459     22.68        91.68         114\n",
       "1126     12.92        81.92          19\n",
       "\n",
       "[1500 rows x 3 columns]>"
      ]
     },
     "execution_count": 35,
     "metadata": {},
     "output_type": "execute_result"
    }
   ],
   "source": [
    "train_x.count"
   ]
  },
  {
   "cell_type": "code",
   "execution_count": 36,
   "metadata": {},
   "outputs": [
    {
     "data": {
      "text/plain": [
       "<bound method DataFrame.count of       Humidity  Temperature  Step_count\n",
       "1394     11.57        80.57          66\n",
       "353      21.63        90.63         115\n",
       "1334     16.12        85.12          66\n",
       "906      15.32        84.32          77\n",
       "1290     11.65        80.65          74\n",
       "...        ...          ...         ...\n",
       "1357     12.47        81.47          65\n",
       "408      28.63        97.63         134\n",
       "1615     28.74        97.74         145\n",
       "694      14.68        83.68          13\n",
       "1649     27.28        96.28         141\n",
       "\n",
       "[501 rows x 3 columns]>"
      ]
     },
     "execution_count": 36,
     "metadata": {},
     "output_type": "execute_result"
    }
   ],
   "source": [
    "test_x.count"
   ]
  },
  {
   "cell_type": "markdown",
   "metadata": {},
   "source": [
    "## 3-1. Decision Tree"
   ]
  },
  {
   "cell_type": "code",
   "execution_count": 38,
   "metadata": {},
   "outputs": [
    {
     "name": "stdout",
     "output_type": "stream",
     "text": [
      "Accuracy is 100.0%.\n"
     ]
    }
   ],
   "source": [
    "# Build a learning model\n",
    "model_dt = tree.DecisionTreeClassifier(max_depth=3, random_state=42)\n",
    "\n",
    "# Set the test data for learning\n",
    "model_dt.fit(train_x, train_y)\n",
    "\n",
    "# Conduct inference\n",
    "test_dt = model_dt.predict(test_x)\n",
    "\n",
    "# Calculate the accuracy\n",
    "score_dt = model_dt.score(test_x, test_y)\n",
    "print(f'Accuracy is {score_dt * 100}%.')"
   ]
  },
  {
   "cell_type": "code",
   "execution_count": 39,
   "metadata": {},
   "outputs": [
    {
     "data": {
      "text/plain": [
       "[Text(200.88000000000002, 181.2, 'Temperature <= 91.905\\ngini = 0.655\\nsamples = 1500\\nvalue = [373, 600, 527]\\nclass = y[1]'),\n",
       " Text(133.92000000000002, 108.72, 'Temperature <= 84.005\\ngini = 0.473\\nsamples = 973\\nvalue = [373, 600, 0]\\nclass = y[1]'),\n",
       " Text(66.96000000000001, 36.23999999999998, 'gini = 0.0\\nsamples = 373\\nvalue = [373, 0, 0]\\nclass = y[0]'),\n",
       " Text(200.88000000000002, 36.23999999999998, 'gini = 0.0\\nsamples = 600\\nvalue = [0, 600, 0]\\nclass = y[1]'),\n",
       " Text(267.84000000000003, 108.72, 'gini = 0.0\\nsamples = 527\\nvalue = [0, 0, 527]\\nclass = y[2]')]"
      ]
     },
     "execution_count": 39,
     "metadata": {},
     "output_type": "execute_result"
    },
    {
     "data": {
      "image/png": "[encoded data removed]",
      "text/plain": [
       "<Figure size 432x288 with 1 Axes>"
      ]
     },
     "metadata": {
      "needs_background": "light"
     },
     "output_type": "display_data"
    }
   ],
   "source": [
    "plot_tree(model_dt, feature_names=train_x.columns, class_names=True, filled=True)"
   ]
  },
  {
   "cell_type": "markdown",
   "metadata": {},
   "source": [
    "## This decision tree suggests the following three points.\n",
    "\n",
    "#### If body temperature is higher than 91.905°F, respective people confirmly have high stress.\n",
    "#### If body temperature is lower than 84.005°F, classified people have low stress.\n",
    "#### If else, the stress level is normal.\n"
   ]
  },
  {
   "cell_type": "markdown",
   "metadata": {},
   "source": [
    "## 3-2. Random Forest"
   ]
  },
  {
   "cell_type": "markdown",
   "metadata": {},
   "source": [
    "## **Classification**"
   ]
  },
  {
   "cell_type": "code",
   "execution_count": 43,
   "metadata": {},
   "outputs": [
    {
     "name": "stdout",
     "output_type": "stream",
     "text": [
      "Accuracy is 100.0%.\n"
     ]
    }
   ],
   "source": [
    "# Build a leaening model\n",
    "model_rf = RandomForestClassifier(max_depth=3, random_state=42)\n",
    "\n",
    "# Set the test data for learning\n",
    "model_rf.fit(train_x, train_y)\n",
    "\n",
    "# Conduct inference\n",
    "test = model_rf.predict(test_x)\n",
    "\n",
    "# Calculate the accuracy\n",
    "score_rfc = accuracy_score(test_y, test)\n",
    "print(f'Accuracy is {score_rfc * 100}%.')"
   ]
  },
  {
   "cell_type": "markdown",
   "metadata": {},
   "source": [
    "## Regression"
   ]
  },
  {
   "cell_type": "code",
   "execution_count": 45,
   "metadata": {},
   "outputs": [
    {
     "name": "stdout",
     "output_type": "stream",
     "text": [
      "Accuracy is 100.0%.\n"
     ]
    }
   ],
   "source": [
    "score_reg = model_rf.score(test_x, test_y)\n",
    "print(f'Accuracy is {score_reg * 100}%.')"
   ]
  },
  {
   "cell_type": "markdown",
   "metadata": {},
   "source": [
    "### RMSE and R2 Evaluation"
   ]
  },
  {
   "cell_type": "code",
   "execution_count": 47,
   "metadata": {},
   "outputs": [
    {
     "name": "stdout",
     "output_type": "stream",
     "text": [
      "RMSE Train: 0.00, Test: 0.00\n",
      "R^2 Train: 1.00, Test: 1.00\n"
     ]
    }
   ],
   "source": [
    "# Predict train_x\n",
    "train_y_pred = model_rf.predict(train_x)\n",
    "\n",
    "# Predict test_y\n",
    "test_y_pred = model_rf.predict(test_x)\n",
    "\n",
    "# RMSE\n",
    "print('RMSE Train: %.2f, Test: %.2f' % (\n",
    "        mean_squared_error(train_y, train_y_pred, squared=False), # Train\n",
    "        mean_squared_error(test_y, test_y_pred, squared=False)    # test\n",
    "      ))\n",
    "\n",
    "# R2\n",
    "print('R^2 Train: %.2f, Test: %.2f' % (\n",
    "        r2_score(train_y, train_y_pred), # Train\n",
    "        r2_score(test_y, test_y_pred)    # Test\n",
    "      ))"
   ]
  },
  {
   "cell_type": "markdown",
   "metadata": {},
   "source": [
    "### Residual Plot Evaluation"
   ]
  },
  {
   "cell_type": "code",
   "execution_count": 49,
   "metadata": {},
   "outputs": [
    {
     "data": {
      "image/png": "[encoded data removed]",
      "text/plain": [
       "<Figure size 432x288 with 1 Axes>"
      ]
     },
     "metadata": {
      "needs_background": "light"
     },
     "output_type": "display_data"
    }
   ],
   "source": [
    "# Plot predictions and residuals in train data\n",
    "plt.scatter(train_y_pred,\n",
    "            train_y_pred - train_y,\n",
    "            c='blue',\n",
    "            marker='o',\n",
    "            s=40,\n",
    "            alpha=0.7,\n",
    "            label='Train Data')\n",
    "\n",
    "\n",
    "# Plot predictions and residuals in test data\n",
    "plt.scatter(test_y_pred,\n",
    "            test_y_pred - test_y,\n",
    "            c='red',\n",
    "            marker='o',\n",
    "            s=40,\n",
    "            alpha=0.7,\n",
    "            label='Test Data')\n",
    "\n",
    "# Configurate Style\n",
    "plt.xlabel('Predictions')\n",
    "plt.ylabel('Residuals')\n",
    "plt.legend(loc='upper left')\n",
    "plt.hlines(y=0, xmin=-20, xmax=60, lw=2, color='black')\n",
    "plt.xlim([-20, 60])\n",
    "plt.ylim([-50, 40])\n",
    "plt.tight_layout()\n",
    "plt.show()"
   ]
  },
  {
   "cell_type": "markdown",
   "metadata": {},
   "source": [
    "## 4. Discussion"
   ]
  },
  {
   "cell_type": "markdown",
   "metadata": {},
   "source": [
    "## 4-1. Decision Tree and Random Forest\n",
    "Taking into account accuracy scores, RMSE, R2, and a residual-plot, the both models seem to classify stress levels accurately. However, respective outputs imply that Stress-Lysis data might be inadequate to clasiffication as the box-plots have already shown.\n",
    "\n",
    " ## 4-2. The Other Methods\n",
    "Basic data aggregation could be suited to such data."
   ]
  },
  {
   "cell_type": "markdown",
   "metadata": {},
   "source": [
    "# CONCLUSION\n",
    "While classification methods such as desicion tree and random forest are frequently used, the findings \n",
    "of this notebook show that moderately classified data might be unsuitable for scrutinizing insightful suggestions."
   ]
  },
  {
   "cell_type": "code",
   "execution_count": null,
   "metadata": {},
   "outputs": [],
   "source": []
  }
 ],
 "metadata": {
  "kernelspec": {
   "display_name": "Python 3",
   "language": "python",
   "name": "python3"
  },
  "language_info": {
   "codemirror_mode": {
    "name": "ipython",
    "version": 3
   },
   "file_extension": ".py",
   "mimetype": "text/x-python",
   "name": "python",
   "nbconvert_exporter": "python",
   "pygments_lexer": "ipython3",
   "version": "3.8.3"
  }
 },
 "nbformat": 4,
 "nbformat_minor": 4
}
